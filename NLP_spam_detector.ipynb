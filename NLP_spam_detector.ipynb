{
 "cells": [
  {
   "cell_type": "code",
   "execution_count": 1,
   "id": "d52bf035-3ee4-4610-b78f-831719569a41",
   "metadata": {},
   "outputs": [],
   "source": [
    "import pandas as pd\n",
    "import numpy as np"
   ]
  },
  {
   "cell_type": "code",
   "execution_count": 4,
   "id": "1a4ec647-c01b-4ca2-a88b-469c8d54762d",
   "metadata": {},
   "outputs": [
    {
     "data": {
      "text/html": [
       "<div>\n",
       "<style scoped>\n",
       "    .dataframe tbody tr th:only-of-type {\n",
       "        vertical-align: middle;\n",
       "    }\n",
       "\n",
       "    .dataframe tbody tr th {\n",
       "        vertical-align: top;\n",
       "    }\n",
       "\n",
       "    .dataframe thead th {\n",
       "        text-align: right;\n",
       "    }\n",
       "</style>\n",
       "<table border=\"1\" class=\"dataframe\">\n",
       "  <thead>\n",
       "    <tr style=\"text-align: right;\">\n",
       "      <th></th>\n",
       "      <th>COMMENT_ID</th>\n",
       "      <th>AUTHOR</th>\n",
       "      <th>DATE</th>\n",
       "      <th>CONTENT</th>\n",
       "      <th>CLASS</th>\n",
       "    </tr>\n",
       "  </thead>\n",
       "  <tbody>\n",
       "    <tr>\n",
       "      <th>0</th>\n",
       "      <td>LZQPQhLyRh80UYxNuaDWhIGQYNQ96IuCg-AYWqNPjpU</td>\n",
       "      <td>Julius NM</td>\n",
       "      <td>2013-11-07T06:20:48</td>\n",
       "      <td>Huh, anyway check out this you[tube] channel: ...</td>\n",
       "      <td>1</td>\n",
       "    </tr>\n",
       "    <tr>\n",
       "      <th>1</th>\n",
       "      <td>LZQPQhLyRh_C2cTtd9MvFRJedxydaVW-2sNg5Diuo4A</td>\n",
       "      <td>adam riyati</td>\n",
       "      <td>2013-11-07T12:37:15</td>\n",
       "      <td>Hey guys check out my new channel and our firs...</td>\n",
       "      <td>1</td>\n",
       "    </tr>\n",
       "    <tr>\n",
       "      <th>2</th>\n",
       "      <td>LZQPQhLyRh9MSZYnf8djyk0gEF9BHDPYrrK-qCczIY8</td>\n",
       "      <td>Evgeny Murashkin</td>\n",
       "      <td>2013-11-08T17:34:21</td>\n",
       "      <td>just for test I have to say murdev.com</td>\n",
       "      <td>1</td>\n",
       "    </tr>\n",
       "    <tr>\n",
       "      <th>3</th>\n",
       "      <td>z13jhp0bxqncu512g22wvzkasxmvvzjaz04</td>\n",
       "      <td>ElNino Melendez</td>\n",
       "      <td>2013-11-09T08:28:43</td>\n",
       "      <td>me shaking my sexy ass on my channel enjoy ^_^ ﻿</td>\n",
       "      <td>1</td>\n",
       "    </tr>\n",
       "    <tr>\n",
       "      <th>4</th>\n",
       "      <td>z13fwbwp1oujthgqj04chlngpvzmtt3r3dw</td>\n",
       "      <td>GsMega</td>\n",
       "      <td>2013-11-10T16:05:38</td>\n",
       "      <td>watch?v=vtaRGgvGtWQ   Check this out .﻿</td>\n",
       "      <td>1</td>\n",
       "    </tr>\n",
       "    <tr>\n",
       "      <th>...</th>\n",
       "      <td>...</td>\n",
       "      <td>...</td>\n",
       "      <td>...</td>\n",
       "      <td>...</td>\n",
       "      <td>...</td>\n",
       "    </tr>\n",
       "    <tr>\n",
       "      <th>365</th>\n",
       "      <td>_2viQ_Qnc6-bMSjqyL1NKj57ROicCSJV5SwTrw-RFFA</td>\n",
       "      <td>Katie Mettam</td>\n",
       "      <td>2013-07-13T13:27:39.441000</td>\n",
       "      <td>I love this song because we sing it at Camp al...</td>\n",
       "      <td>0</td>\n",
       "    </tr>\n",
       "    <tr>\n",
       "      <th>366</th>\n",
       "      <td>_2viQ_Qnc6-pY-1yR6K2FhmC5i48-WuNx5CumlHLDAI</td>\n",
       "      <td>Sabina Pearson-Smith</td>\n",
       "      <td>2013-07-13T13:14:30.021000</td>\n",
       "      <td>I love this song for two reasons: 1.it is abou...</td>\n",
       "      <td>0</td>\n",
       "    </tr>\n",
       "    <tr>\n",
       "      <th>367</th>\n",
       "      <td>_2viQ_Qnc6_k_n_Bse9zVhJP8tJReZpo8uM2uZfnzDs</td>\n",
       "      <td>jeffrey jules</td>\n",
       "      <td>2013-07-13T12:09:31.188000</td>\n",
       "      <td>wow</td>\n",
       "      <td>0</td>\n",
       "    </tr>\n",
       "    <tr>\n",
       "      <th>368</th>\n",
       "      <td>_2viQ_Qnc6_yBt8UGMWyg3vh0PulTqcqyQtdE7d4Fl0</td>\n",
       "      <td>Aishlin Maciel</td>\n",
       "      <td>2013-07-13T11:17:52.308000</td>\n",
       "      <td>Shakira u are so wiredo</td>\n",
       "      <td>0</td>\n",
       "    </tr>\n",
       "    <tr>\n",
       "      <th>369</th>\n",
       "      <td>_2viQ_Qnc685RPw1aSa1tfrIuHXRvAQ2rPT9R06KTqA</td>\n",
       "      <td>Latin Bosch</td>\n",
       "      <td>2013-07-12T22:33:27.916000</td>\n",
       "      <td>Shakira is the best dancer</td>\n",
       "      <td>0</td>\n",
       "    </tr>\n",
       "  </tbody>\n",
       "</table>\n",
       "<p>1956 rows × 5 columns</p>\n",
       "</div>"
      ],
      "text/plain": [
       "                                      COMMENT_ID                AUTHOR  \\\n",
       "0    LZQPQhLyRh80UYxNuaDWhIGQYNQ96IuCg-AYWqNPjpU             Julius NM   \n",
       "1    LZQPQhLyRh_C2cTtd9MvFRJedxydaVW-2sNg5Diuo4A           adam riyati   \n",
       "2    LZQPQhLyRh9MSZYnf8djyk0gEF9BHDPYrrK-qCczIY8      Evgeny Murashkin   \n",
       "3            z13jhp0bxqncu512g22wvzkasxmvvzjaz04       ElNino Melendez   \n",
       "4            z13fwbwp1oujthgqj04chlngpvzmtt3r3dw                GsMega   \n",
       "..                                           ...                   ...   \n",
       "365  _2viQ_Qnc6-bMSjqyL1NKj57ROicCSJV5SwTrw-RFFA          Katie Mettam   \n",
       "366  _2viQ_Qnc6-pY-1yR6K2FhmC5i48-WuNx5CumlHLDAI  Sabina Pearson-Smith   \n",
       "367  _2viQ_Qnc6_k_n_Bse9zVhJP8tJReZpo8uM2uZfnzDs         jeffrey jules   \n",
       "368  _2viQ_Qnc6_yBt8UGMWyg3vh0PulTqcqyQtdE7d4Fl0        Aishlin Maciel   \n",
       "369  _2viQ_Qnc685RPw1aSa1tfrIuHXRvAQ2rPT9R06KTqA           Latin Bosch   \n",
       "\n",
       "                           DATE  \\\n",
       "0           2013-11-07T06:20:48   \n",
       "1           2013-11-07T12:37:15   \n",
       "2           2013-11-08T17:34:21   \n",
       "3           2013-11-09T08:28:43   \n",
       "4           2013-11-10T16:05:38   \n",
       "..                          ...   \n",
       "365  2013-07-13T13:27:39.441000   \n",
       "366  2013-07-13T13:14:30.021000   \n",
       "367  2013-07-13T12:09:31.188000   \n",
       "368  2013-07-13T11:17:52.308000   \n",
       "369  2013-07-12T22:33:27.916000   \n",
       "\n",
       "                                               CONTENT  CLASS  \n",
       "0    Huh, anyway check out this you[tube] channel: ...      1  \n",
       "1    Hey guys check out my new channel and our firs...      1  \n",
       "2               just for test I have to say murdev.com      1  \n",
       "3     me shaking my sexy ass on my channel enjoy ^_^ ﻿      1  \n",
       "4              watch?v=vtaRGgvGtWQ   Check this out .﻿      1  \n",
       "..                                                 ...    ...  \n",
       "365  I love this song because we sing it at Camp al...      0  \n",
       "366  I love this song for two reasons: 1.it is abou...      0  \n",
       "367                                                wow      0  \n",
       "368                            Shakira u are so wiredo      0  \n",
       "369                         Shakira is the best dancer      0  \n",
       "\n",
       "[1956 rows x 5 columns]"
      ]
     },
     "execution_count": 4,
     "metadata": {},
     "output_type": "execute_result"
    }
   ],
   "source": [
    "df = pd.concat([\n",
    "    pd.read_csv('Youtube01-Psy.csv'),\n",
    "    pd.read_csv('Youtube02-KatyPerry.csv'),\n",
    "    pd.read_csv('Youtube03-LMFAO.csv'),\n",
    "    pd.read_csv('Youtube04-Eminem.csv'),\n",
    "    pd.read_csv('Youtube05-Shakira.csv')\n",
    "   ])\n",
    "df"
   ]
  },
  {
   "cell_type": "code",
   "execution_count": 5,
   "id": "dcf0d994-5a2b-4e85-a7f7-f79332b2f0bb",
   "metadata": {},
   "outputs": [
    {
     "name": "stdout",
     "output_type": "stream",
     "text": [
      "<class 'pandas.core.frame.DataFrame'>\n",
      "Index: 1956 entries, 0 to 369\n",
      "Data columns (total 5 columns):\n",
      " #   Column      Non-Null Count  Dtype \n",
      "---  ------      --------------  ----- \n",
      " 0   COMMENT_ID  1956 non-null   object\n",
      " 1   AUTHOR      1956 non-null   object\n",
      " 2   DATE        1711 non-null   object\n",
      " 3   CONTENT     1956 non-null   object\n",
      " 4   CLASS       1956 non-null   int64 \n",
      "dtypes: int64(1), object(4)\n",
      "memory usage: 91.7+ KB\n"
     ]
    }
   ],
   "source": [
    "df.info()"
   ]
  },
  {
   "cell_type": "code",
   "execution_count": 7,
   "id": "f392eb3b-f1c1-4231-bc57-6afe2b94fdd9",
   "metadata": {},
   "outputs": [
    {
     "data": {
      "text/plain": [
       "'me shaking my sexy ass on my channel enjoy ^_^ \\ufeff'"
      ]
     },
     "execution_count": 7,
     "metadata": {},
     "output_type": "execute_result"
    }
   ],
   "source": [
    "df.CONTENT.iloc[3]"
   ]
  },
  {
   "cell_type": "code",
   "execution_count": 8,
   "id": "324b4dca-de7f-4e9c-8b02-631bd0d65d36",
   "metadata": {},
   "outputs": [
    {
     "data": {
      "text/plain": [
       "CLASS\n",
       "1    0.513804\n",
       "0    0.486196\n",
       "Name: proportion, dtype: float64"
      ]
     },
     "execution_count": 8,
     "metadata": {},
     "output_type": "execute_result"
    }
   ],
   "source": [
    "df.CLASS.value_counts(normalize = True)"
   ]
  },
  {
   "cell_type": "code",
   "execution_count": 11,
   "id": "2424b7a6-73ab-48e8-b035-c58c47c98f10",
   "metadata": {},
   "outputs": [],
   "source": [
    "# Train/Test split\n",
    "\n",
    "from sklearn.model_selection import train_test_split\n",
    "seed = 123\n",
    "X_train, X_test, y_train, y_test = train_test_split(\n",
    "    df['CONTENT'],\n",
    "    df['CLASS'],\n",
    "    test_size = 0.2,\n",
    "    random_state = seed\n",
    ")\n",
    "    "
   ]
  },
  {
   "cell_type": "code",
   "execution_count": 12,
   "id": "f89c4910-b873-48d2-a00c-334d9744d7f4",
   "metadata": {},
   "outputs": [
    {
     "data": {
      "text/plain": [
       "(1564,)"
      ]
     },
     "execution_count": 12,
     "metadata": {},
     "output_type": "execute_result"
    }
   ],
   "source": [
    "X_train.shape"
   ]
  },
  {
   "cell_type": "code",
   "execution_count": 14,
   "id": "0d71462e-1362-45d0-a272-654a6597295d",
   "metadata": {},
   "outputs": [
    {
     "data": {
      "text/plain": [
       "(392,)"
      ]
     },
     "execution_count": 14,
     "metadata": {},
     "output_type": "execute_result"
    }
   ],
   "source": [
    "y_test.shape"
   ]
  },
  {
   "cell_type": "code",
   "execution_count": 15,
   "id": "3412aa78-9a47-4aad-a590-1c8bed79a33f",
   "metadata": {},
   "outputs": [
    {
     "data": {
      "text/plain": [
       "38     Love this song! My soccer team made a cd for o...\n",
       "72                                      Sub my channel!﻿\n",
       "356    I WILL NEVER FORGET THIS SONG IN MY LIFE LIKE ...\n",
       "126                   Love the way you lie - Driveshaft﻿\n",
       "340    *****PLEASE READ*****  Hey everyone! I&#39;m a...\n",
       "                             ...                        \n",
       "422    check it out free stuff for watching videos an...\n",
       "208    HEY GUYS!!! ❤❤❤❤❤❤❤  BEFORE YOU IGNORE ME, PLE...\n",
       "268                   Hello. İ am from Azerbaijan<br />﻿\n",
       "251                                   dude check out psy\n",
       "396    I KNOW YOU MAY NOT WANT TO READ THIS BUT pleas...\n",
       "Name: CONTENT, Length: 1564, dtype: object"
      ]
     },
     "execution_count": 15,
     "metadata": {},
     "output_type": "execute_result"
    }
   ],
   "source": [
    "X_train"
   ]
  },
  {
   "cell_type": "code",
   "execution_count": 16,
   "id": "df7fb848-0efd-45bb-8539-f90c3a8214d2",
   "metadata": {},
   "outputs": [
    {
     "data": {
      "text/plain": [
       "38     0\n",
       "72     1\n",
       "356    1\n",
       "126    0\n",
       "340    1\n",
       "      ..\n",
       "422    1\n",
       "208    1\n",
       "268    0\n",
       "251    1\n",
       "396    1\n",
       "Name: CLASS, Length: 1564, dtype: int64"
      ]
     },
     "execution_count": 16,
     "metadata": {},
     "output_type": "execute_result"
    }
   ],
   "source": [
    "y_train"
   ]
  },
  {
   "cell_type": "code",
   "execution_count": 17,
   "id": "ebb5ab3b-7d48-4838-81c7-6db71106de6e",
   "metadata": {},
   "outputs": [
    {
     "data": {
      "text/plain": [
       "38     Love this song! My soccer team made a cd for o...\n",
       "72                                      Sub my channel!﻿\n",
       "356    I WILL NEVER FORGET THIS SONG IN MY LIFE LIKE ...\n",
       "126                   Love the way you lie - Driveshaft﻿\n",
       "340    *****PLEASE READ*****  Hey everyone! I&#39;m a...\n",
       "                             ...                        \n",
       "422    check it out free stuff for watching videos an...\n",
       "208    HEY GUYS!!! ❤❤❤❤❤❤❤  BEFORE YOU IGNORE ME, PLE...\n",
       "268                   Hello. İ am from Azerbaijan<br />﻿\n",
       "251                                   dude check out psy\n",
       "396    I KNOW YOU MAY NOT WANT TO READ THIS BUT pleas...\n",
       "Name: CONTENT, Length: 1564, dtype: object"
      ]
     },
     "execution_count": 17,
     "metadata": {},
     "output_type": "execute_result"
    }
   ],
   "source": [
    "X_train"
   ]
  },
  {
   "cell_type": "code",
   "execution_count": 20,
   "id": "df2025f4-557a-4c5a-87f6-21fdbca964e9",
   "metadata": {},
   "outputs": [],
   "source": [
    "from sklearn.feature_extraction.text import CountVectorizer\n",
    "vectorizer = CountVectorizer()\n",
    "X_train_vec = vectorizer.fit_transform(X_train)\n",
    "X_test_vec = vectorizer.transform(X_test)"
   ]
  },
  {
   "cell_type": "code",
   "execution_count": 21,
   "id": "8b339326-2cc7-4254-bd02-35376b75164d",
   "metadata": {},
   "outputs": [
    {
     "data": {
      "text/plain": [
       "<1564x3846 sparse matrix of type '<class 'numpy.int64'>'\n",
       "\twith 20361 stored elements in Compressed Sparse Row format>"
      ]
     },
     "execution_count": 21,
     "metadata": {},
     "output_type": "execute_result"
    }
   ],
   "source": [
    "X_train_vec"
   ]
  },
  {
   "cell_type": "code",
   "execution_count": 24,
   "id": "ff731748-5be4-4828-8393-0a5f24240f1d",
   "metadata": {},
   "outputs": [
    {
     "data": {
      "text/plain": [
       "array(['00', '000', '002', ..., 'ｔｈｉｓ', 'ｕｓｒ', 'ｗｗｗ'], dtype=object)"
      ]
     },
     "execution_count": 24,
     "metadata": {},
     "output_type": "execute_result"
    }
   ],
   "source": [
    "vectorizer.get_feature_names_out()"
   ]
  },
  {
   "cell_type": "code",
   "execution_count": 25,
   "id": "2c674383-8110-4fbd-8328-94badd3887b6",
   "metadata": {},
   "outputs": [
    {
     "data": {
      "text/plain": [
       "3846"
      ]
     },
     "execution_count": 25,
     "metadata": {},
     "output_type": "execute_result"
    }
   ],
   "source": [
    "len(vectorizer.get_feature_names_out())"
   ]
  },
  {
   "cell_type": "code",
   "execution_count": 26,
   "id": "087abe2b-b31b-4baf-b139-b7c7bf5028e6",
   "metadata": {},
   "outputs": [
    {
     "data": {
      "text/plain": [
       "<392x3846 sparse matrix of type '<class 'numpy.int64'>'\n",
       "\twith 4771 stored elements in Compressed Sparse Row format>"
      ]
     },
     "execution_count": 26,
     "metadata": {},
     "output_type": "execute_result"
    }
   ],
   "source": [
    "X_test_vec"
   ]
  },
  {
   "cell_type": "code",
   "execution_count": 27,
   "id": "efc09990-3a79-4760-b109-1257d8a67d8b",
   "metadata": {},
   "outputs": [],
   "source": [
    "from sklearn.ensemble import RandomForestClassifier\n",
    "rf = RandomForestClassifier(random_state = seed)\n",
    "rf_fitted = rf.fit(X_train_vec, y_train)"
   ]
  },
  {
   "cell_type": "code",
   "execution_count": 28,
   "id": "9081ccd4-4f5e-43ed-abf3-4a7a54378faa",
   "metadata": {},
   "outputs": [
    {
     "data": {
      "text/plain": [
       "0.9617346938775511"
      ]
     },
     "execution_count": 28,
     "metadata": {},
     "output_type": "execute_result"
    }
   ],
   "source": [
    "rf_fitted.score(X_test_vec, y_test)"
   ]
  },
  {
   "cell_type": "code",
   "execution_count": 30,
   "id": "99d99ac1-697c-4cfd-9ac1-e5305ebaba84",
   "metadata": {},
   "outputs": [
    {
     "name": "stdout",
     "output_type": "stream",
     "text": [
      "              precision    recall  f1-score   support\n",
      "\n",
      "           0       0.94      0.98      0.96       187\n",
      "           1       0.98      0.95      0.96       205\n",
      "\n",
      "    accuracy                           0.96       392\n",
      "   macro avg       0.96      0.96      0.96       392\n",
      "weighted avg       0.96      0.96      0.96       392\n",
      "\n"
     ]
    }
   ],
   "source": [
    "from sklearn.metrics import classification_report\n",
    "print(classification_report(y_test, rf_fitted.predict(X_test_vec)))"
   ]
  },
  {
   "cell_type": "code",
   "execution_count": 34,
   "id": "35d57415-98f1-4d42-8acc-a61ece1157da",
   "metadata": {},
   "outputs": [
    {
     "data": {
      "text/plain": [
       "array([0.95402299, 0.95393474, 0.94241843])"
      ]
     },
     "execution_count": 34,
     "metadata": {},
     "output_type": "execute_result"
    }
   ],
   "source": [
    "from sklearn.model_selection import cross_val_score\n",
    "scores = cross_val_score(rf, X_train_vec, y_train, cv = 3)\n",
    "scores"
   ]
  },
  {
   "cell_type": "code",
   "execution_count": 35,
   "id": "f8905a7d-60f2-406a-bc74-f5ea2424750f",
   "metadata": {},
   "outputs": [
    {
     "data": {
      "text/plain": [
       "0.9501253851641037"
      ]
     },
     "execution_count": 35,
     "metadata": {},
     "output_type": "execute_result"
    }
   ],
   "source": [
    "scores.mean()"
   ]
  },
  {
   "cell_type": "code",
   "execution_count": 39,
   "id": "c7adb5e2-71c3-4457-b633-eed82f67cd67",
   "metadata": {},
   "outputs": [
    {
     "data": {
      "text/plain": [
       "0.9539347408829175"
      ]
     },
     "execution_count": 39,
     "metadata": {},
     "output_type": "execute_result"
    }
   ],
   "source": [
    "np.median(scores)"
   ]
  },
  {
   "cell_type": "code",
   "execution_count": 40,
   "id": "db903513-0472-4012-a95d-37086d3d8ebe",
   "metadata": {},
   "outputs": [
    {
     "data": {
      "text/plain": [
       "array([1], dtype=int64)"
      ]
     },
     "execution_count": 40,
     "metadata": {},
     "output_type": "execute_result"
    }
   ],
   "source": [
    "# Inference\n",
    "\n",
    "rf_fitted.predict(vectorizer.transform(['join me to have fun XXX money']))"
   ]
  },
  {
   "cell_type": "code",
   "execution_count": 41,
   "id": "845aaff9-1a18-4e49-987a-87f53da68020",
   "metadata": {},
   "outputs": [
    {
     "data": {
      "text/plain": [
       "array([0], dtype=int64)"
      ]
     },
     "execution_count": 41,
     "metadata": {},
     "output_type": "execute_result"
    }
   ],
   "source": [
    "rf_fitted.predict(vectorizer.transform(['Have a good day']))"
   ]
  },
  {
   "cell_type": "code",
   "execution_count": 42,
   "id": "18e7d3ea-630d-4376-b93a-00445b82bc1d",
   "metadata": {},
   "outputs": [
    {
     "data": {
      "text/plain": [
       "array([0], dtype=int64)"
      ]
     },
     "execution_count": 42,
     "metadata": {},
     "output_type": "execute_result"
    }
   ],
   "source": [
    "rf_fitted.predict(vectorizer.transform(['Have a good day $$$']))"
   ]
  },
  {
   "cell_type": "code",
   "execution_count": 43,
   "id": "16132354-ac35-4877-b82d-d0dcbc91ac58",
   "metadata": {},
   "outputs": [
    {
     "data": {
      "text/plain": [
       "array([0], dtype=int64)"
      ]
     },
     "execution_count": 43,
     "metadata": {},
     "output_type": "execute_result"
    }
   ],
   "source": [
    "rf_fitted.predict(vectorizer.transform(['Have a good day $$$ %%%']))"
   ]
  },
  {
   "cell_type": "code",
   "execution_count": 44,
   "id": "2a992d69-86e4-49fd-919e-ea380b5dd552",
   "metadata": {},
   "outputs": [
    {
     "data": {
      "text/plain": [
       "array([0], dtype=int64)"
      ]
     },
     "execution_count": 44,
     "metadata": {},
     "output_type": "execute_result"
    }
   ],
   "source": [
    "rf_fitted.predict(vectorizer.transform(['Have a good day XXX']))"
   ]
  },
  {
   "cell_type": "code",
   "execution_count": 45,
   "id": "b381f921-23b4-4b27-b19b-3cf802cbfa74",
   "metadata": {},
   "outputs": [
    {
     "data": {
      "text/plain": [
       "array([1], dtype=int64)"
      ]
     },
     "execution_count": 45,
     "metadata": {},
     "output_type": "execute_result"
    }
   ],
   "source": [
    "rf_fitted.predict(vectorizer.transform(['join me to have fun XXX money']))"
   ]
  },
  {
   "cell_type": "code",
   "execution_count": 46,
   "id": "abdde535-a04f-49d4-982e-b1cbda5a9f81",
   "metadata": {},
   "outputs": [
    {
     "data": {
      "text/plain": [
       "array([1], dtype=int64)"
      ]
     },
     "execution_count": 46,
     "metadata": {},
     "output_type": "execute_result"
    }
   ],
   "source": [
    "rf_fitted.predict(vectorizer.transform(['join me to have fun money']))"
   ]
  },
  {
   "cell_type": "code",
   "execution_count": 47,
   "id": "dca8cb1a-7a9a-403d-b63b-4404b44a813d",
   "metadata": {},
   "outputs": [
    {
     "data": {
      "text/plain": [
       "array([1], dtype=int64)"
      ]
     },
     "execution_count": 47,
     "metadata": {},
     "output_type": "execute_result"
    }
   ],
   "source": [
    "rf_fitted.predict(vectorizer.transform(['join me to have fun day']))"
   ]
  },
  {
   "cell_type": "code",
   "execution_count": 48,
   "id": "9a5ef847-090b-421c-a9a8-0b78ced3fde0",
   "metadata": {},
   "outputs": [
    {
     "data": {
      "text/plain": [
       "array([0], dtype=int64)"
      ]
     },
     "execution_count": 48,
     "metadata": {},
     "output_type": "execute_result"
    }
   ],
   "source": [
    "rf_fitted.predict(vectorizer.transform(['enjoy with us ']))"
   ]
  },
  {
   "cell_type": "code",
   "execution_count": 49,
   "id": "e525a2c7-73c7-485b-9265-9f5843a27866",
   "metadata": {},
   "outputs": [
    {
     "data": {
      "text/plain": [
       "array([1], dtype=int64)"
      ]
     },
     "execution_count": 49,
     "metadata": {},
     "output_type": "execute_result"
    }
   ],
   "source": [
    "rf_fitted.predict(vectorizer.transform(['WWW DAY OF YEAR']))"
   ]
  },
  {
   "cell_type": "code",
   "execution_count": null,
   "id": "5f09632a-b06f-49d9-9848-f04ac529c615",
   "metadata": {},
   "outputs": [],
   "source": []
  }
 ],
 "metadata": {
  "kernelspec": {
   "display_name": "Python 3 (ipykernel)",
   "language": "python",
   "name": "python3"
  },
  "language_info": {
   "codemirror_mode": {
    "name": "ipython",
    "version": 3
   },
   "file_extension": ".py",
   "mimetype": "text/x-python",
   "name": "python",
   "nbconvert_exporter": "python",
   "pygments_lexer": "ipython3",
   "version": "3.11.7"
  }
 },
 "nbformat": 4,
 "nbformat_minor": 5
}
